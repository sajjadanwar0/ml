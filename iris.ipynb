{
 "cells": [
  {
   "cell_type": "code",
   "id": "initial_id",
   "metadata": {
    "collapsed": true,
    "ExecuteTime": {
     "end_time": "2024-05-17T11:12:19.315504Z",
     "start_time": "2024-05-17T11:12:19.311241Z"
    }
   },
   "source": [
    "import numpy as np\n",
    "import matplotlib.pyplot as plt\n",
    "import seaborn as sns\n",
    "import pandas as pd\n",
    "from sklearn.model_selection import train_test_split\n",
    "from sklearn.linear_model import LogisticRegression\n",
    "from sklearn.neighbors import KNeighborsClassifier\n",
    "from sklearn.svm import SVC\n",
    "from sklearn import metrics, svm\n",
    "from sklearn.tree import DecisionTreeClassifier"
   ],
   "execution_count": 10,
   "outputs": []
  },
  {
   "metadata": {
    "ExecuteTime": {
     "end_time": "2024-05-17T10:15:58.386080Z",
     "start_time": "2024-05-17T10:15:58.371862Z"
    }
   },
   "cell_type": "code",
   "source": [
    "iris = pd.read_csv(\"data/Iris.csv\")\n",
    "print(iris)"
   ],
   "id": "759ad07301cf06be",
   "execution_count": 2,
   "outputs": []
  },
  {
   "metadata": {
    "ExecuteTime": {
     "end_time": "2024-05-17T10:15:58.486859Z",
     "start_time": "2024-05-17T10:15:58.387015Z"
    }
   },
   "cell_type": "code",
   "source": "iris.info()",
   "id": "b9f504d2019121ab",
   "execution_count": 3,
   "outputs": []
  },
  {
   "metadata": {
    "ExecuteTime": {
     "end_time": "2024-05-17T10:15:58.498599Z",
     "start_time": "2024-05-17T10:15:58.487901Z"
    }
   },
   "cell_type": "code",
   "source": [
    "iris.head()\n",
    "#iris.rename(columns={'sepal length (cm)': 'SepalLengthCm', 'sepal width (cm)': \"SepalWidthCm\",\n",
    "#'petal length (cm)': 'PetalLengthCm', 'petal width (cm)': 'PetalWidthCm'}, inplace=True)"
   ],
   "id": "81898c3884b4bc6e",
   "execution_count": 4,
   "outputs": []
  },
  {
   "metadata": {},
   "cell_type": "markdown",
   "source": "#### Data Visualization",
   "id": "58ed4d1ac47573b9"
  },
  {
   "metadata": {},
   "cell_type": "markdown",
   "source": "#### BoxPlot Visualization",
   "id": "5f99f9351b8063d9"
  },
  {
   "metadata": {
    "ExecuteTime": {
     "end_time": "2024-05-17T10:15:58.607141Z",
     "start_time": "2024-05-17T10:15:58.499404Z"
    }
   },
   "cell_type": "code",
   "source": [
    "plt.boxplot([iris.SepalLengthCm, iris.SepalWidthCm, iris.PetalLengthCm, iris.PetalWidthCm],\n",
    "            tick_labels=[\"SepalLength\", 'SepalWidth', 'PetalLength', 'PetalWidth'])\n",
    "plt.show();"
   ],
   "id": "919c667edf9ce23c",
   "execution_count": 5,
   "outputs": []
  },
  {
   "metadata": {
    "ExecuteTime": {
     "end_time": "2024-05-17T10:15:58.706111Z",
     "start_time": "2024-05-17T10:15:58.608067Z"
    }
   },
   "cell_type": "code",
   "source": [
    "#Create Histogram\n",
    "iris.Species.hist(edgecolor='red', linewidth=2);"
   ],
   "id": "26049bf93e53c2d9",
   "execution_count": 6,
   "outputs": []
  },
  {
   "metadata": {},
   "cell_type": "markdown",
   "source": "#### CLASSIFICATION USING MACHINE LEARNING (ML) ALGORITHMS",
   "id": "2633baa21faded99"
  },
  {
   "metadata": {
    "ExecuteTime": {
     "end_time": "2024-05-17T10:15:58.717226Z",
     "start_time": "2024-05-17T10:15:58.707750Z"
    }
   },
   "cell_type": "code",
   "source": "iris.drop('Id', axis=1)",
   "id": "63107270dd650cd0",
   "execution_count": 7,
   "outputs": []
  },
  {
   "metadata": {
    "ExecuteTime": {
     "end_time": "2024-05-17T10:15:58.721939Z",
     "start_time": "2024-05-17T10:15:58.718282Z"
    }
   },
   "cell_type": "code",
   "source": [
    "train, test = train_test_split(iris, test_size=0.3)  # train 70% test 30%\n",
    "print(train.shape, test.shape)"
   ],
   "id": "a7e62cfb9253d376",
   "execution_count": 8,
   "outputs": []
  },
  {
   "metadata": {
    "ExecuteTime": {
     "end_time": "2024-05-17T11:11:55.680898Z",
     "start_time": "2024-05-17T11:11:55.675767Z"
    }
   },
   "cell_type": "code",
   "source": [
    "train_X = train[['SepalLengthCm', 'SepalWidthCm', 'PetalLengthCm', 'PetalWidthCm']]\n",
    "train_y = train.Species\n",
    "test_X = test[['SepalLengthCm', 'SepalWidthCm', 'PetalLengthCm', 'PetalWidthCm']]\n",
    "test_y = test.Species"
   ],
   "id": "ba08479a833d19c",
   "execution_count": 9,
   "outputs": []
  },
  {
   "metadata": {},
   "cell_type": "markdown",
   "source": "SVM",
   "id": "b31fb40c2c2f792"
  },
  {
   "metadata": {
    "ExecuteTime": {
     "end_time": "2024-05-17T11:13:20.912279Z",
     "start_time": "2024-05-17T11:13:20.905304Z"
    }
   },
   "cell_type": "code",
   "source": [
    "model = svm.SVC()\n",
    "model.fit(train_X, train_y)\n",
    "predictions = model.predict(test_X)\n",
    "print('The accuracy of the model is {}'.format(metrics.accuracy_score(predictions, test_y)))"
   ],
   "id": "8fc33f55d7335657",
   "execution_count": 11,
   "outputs": []
  },
  {
   "metadata": {
    "ExecuteTime": {
     "end_time": "2024-05-17T11:17:06.195688Z",
     "start_time": "2024-05-17T11:17:06.177478Z"
    }
   },
   "cell_type": "code",
   "source": [
    "model = LogisticRegression()\n",
    "model.fit(train_X, train_y)\n",
    "predictions = model.predict(test_X)\n",
    "print('The accuracy of the model is {}'.format(metrics.accuracy_score(predictions, test_y)))"
   ],
   "id": "9714f47d6476e9",
   "execution_count": 14,
   "outputs": []
  },
  {
   "metadata": {},
   "cell_type": "markdown",
   "source": "LogisticRegression",
   "id": "351cce8abe2bf636"
  },
  {
   "metadata": {
    "ExecuteTime": {
     "end_time": "2024-05-17T11:14:52.297613Z",
     "start_time": "2024-05-17T11:14:52.291689Z"
    }
   },
   "cell_type": "code",
   "source": [
    "model = DecisionTreeClassifier()\n",
    "model.fit(train_X, train_y)\n",
    "predictions = model.predict(test_X)\n",
    "print('The accuracy of the model is {}'.format(metrics.accuracy_score(predictions, test_y)))"
   ],
   "id": "1e14244d789a68fa",
   "execution_count": 13,
   "outputs": []
  },
  {
   "metadata": {
    "ExecuteTime": {
     "end_time": "2024-05-17T11:17:31.909143Z",
     "start_time": "2024-05-17T11:17:31.905843Z"
    }
   },
   "cell_type": "code",
   "source": [
    "model_name = ['SVM', 'Logistic Regression', 'Decision Tree']\n",
    "accuracy = [91.1, 93.3, 91.1]"
   ],
   "id": "a6a21310c1a8a36f",
   "execution_count": 15,
   "outputs": []
  },
  {
   "metadata": {
    "ExecuteTime": {
     "end_time": "2024-05-17T19:24:51.484042Z",
     "start_time": "2024-05-17T19:24:51.353179Z"
    }
   },
   "cell_type": "code",
   "source": [
    "%matplotlib inline\n",
    "import warnings\n",
    "warnings.filterwarnings('ignore')\n",
    "plt.figure(figsize=(10,5))\n",
    "plt.title('Accuracy comparison')\n",
    "plt.xlabel('Accuracy')\n",
    "plt.ylabel('Model')\n",
    "sns.barplot(x=accuracy, y=model_name)\n",
    "plt.tight_layout()\n",
    "plt.show()"
   ],
   "id": "c9059a2815a16779",
   "execution_count": 18,
   "outputs": []
  }
 ],
 "metadata": {
  "kernelspec": {
   "display_name": "Python 3",
   "language": "python",
   "name": "python3"
  },
  "language_info": {
   "codemirror_mode": {
    "name": "ipython",
    "version": 2
   },
   "file_extension": ".py",
   "mimetype": "text/x-python",
   "name": "python",
   "nbconvert_exporter": "python",
   "pygments_lexer": "ipython2",
   "version": "2.7.6"
  }
 },
 "nbformat": 4,
 "nbformat_minor": 5
}
