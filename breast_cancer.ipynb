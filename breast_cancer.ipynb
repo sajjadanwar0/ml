{
 "cells": [
  {
   "cell_type": "code",
   "id": "initial_id",
   "metadata": {
    "collapsed": true,
    "ExecuteTime": {
     "end_time": "2024-05-18T19:40:21.542774Z",
     "start_time": "2024-05-18T19:40:21.539127Z"
    }
   },
   "source": [
    "import pandas as pd\n",
    "import numpy as np\n",
    "from sklearn.impute import SimpleImputer\n",
    "from sklearn.model_selection import train_test_split\n",
    "from sklearn.preprocessing import StandardScaler\n",
    "from sklearn.svm import SVC\n",
    "from sklearn.ensemble import RandomForestClassifier, VotingClassifier\n",
    "from sklearn.neighbors import KNeighborsClassifier"
   ],
   "outputs": [],
   "execution_count": 93
  },
  {
   "metadata": {
    "ExecuteTime": {
     "end_time": "2024-05-18T19:41:31.041746Z",
     "start_time": "2024-05-18T19:41:31.034732Z"
    }
   },
   "cell_type": "code",
   "source": "df = pd.read_csv('data/breast_cancer.csv')",
   "id": "356904c336868940",
   "outputs": [],
   "execution_count": 103
  },
  {
   "metadata": {
    "ExecuteTime": {
     "end_time": "2024-05-18T19:41:32.439868Z",
     "start_time": "2024-05-18T19:41:32.434105Z"
    }
   },
   "cell_type": "code",
   "source": [
    "df.isnull().sum()\n",
    "df = df.replace([np.inf, -np.inf], np.nan).fillna(99999)"
   ],
   "id": "316b9fbeba8b78a4",
   "outputs": [],
   "execution_count": 104
  },
  {
   "metadata": {
    "ExecuteTime": {
     "end_time": "2024-05-18T19:41:34.749363Z",
     "start_time": "2024-05-18T19:41:34.742139Z"
    }
   },
   "cell_type": "code",
   "source": [
    "X = df.drop(['diagnosis'], axis=1)\n",
    "y = df['diagnosis']\n",
    "X_train, X_test, y_train, y_test = train_test_split(X, y, test_size=0.2, random_state=42)\n",
    "# imp = SimpleImputer(missing_values=0, strategy='mean')\n",
    "# imp = imp.fit(X_train)\n",
    "# X_train = imp.transform(X_train)"
   ],
   "id": "2d6889bba723228c",
   "outputs": [],
   "execution_count": 105
  },
  {
   "metadata": {
    "ExecuteTime": {
     "end_time": "2024-05-18T19:41:36.168285Z",
     "start_time": "2024-05-18T19:41:36.162619Z"
    }
   },
   "cell_type": "code",
   "source": [
    "y[y == 'M'] = 1\n",
    "y[y == 'B'] = 0\n",
    "y = y.astype('int')"
   ],
   "id": "9947dae5e834388e",
   "outputs": [
    {
     "name": "stderr",
     "output_type": "stream",
     "text": [
      "/tmp/ipykernel_37063/2894510839.py:1: SettingWithCopyWarning: \n",
      "A value is trying to be set on a copy of a slice from a DataFrame\n",
      "\n",
      "See the caveats in the documentation: https://pandas.pydata.org/pandas-docs/stable/user_guide/indexing.html#returning-a-view-versus-a-copy\n",
      "  y[y == 'M'] = 1\n",
      "/tmp/ipykernel_37063/2894510839.py:2: SettingWithCopyWarning: \n",
      "A value is trying to be set on a copy of a slice from a DataFrame\n",
      "\n",
      "See the caveats in the documentation: https://pandas.pydata.org/pandas-docs/stable/user_guide/indexing.html#returning-a-view-versus-a-copy\n",
      "  y[y == 'B'] = 0\n"
     ]
    }
   ],
   "execution_count": 106
  },
  {
   "metadata": {
    "ExecuteTime": {
     "end_time": "2024-05-18T19:41:40.454282Z",
     "start_time": "2024-05-18T19:41:40.450337Z"
    }
   },
   "cell_type": "code",
   "source": [
    "from sklearn.preprocessing import LabelEncoder\n",
    "\n",
    "le = LabelEncoder()\n",
    "y = le.fit_transform(y)"
   ],
   "id": "c9cff7427e24801",
   "outputs": [],
   "execution_count": 107
  },
  {
   "metadata": {},
   "cell_type": "markdown",
   "source": [
    "Building Hybrid Models\n",
    "\n",
    "\n",
    "\n",
    "We start by making a new object called VotingClassifier, which is a hybrid\n",
    "of the Random Forest and SVM classifiers. A list of tuples, each of which\n",
    "consisting of a string identifier and an object classifier, is what we send along\n",
    "as our input. The terms “rf” and “svm” will serve as the identifiers in this\n",
    "scenario. By utilizing the fit() method, we train the VotingClassifier using\n",
    "the provided data. Both the Random Forest and SVM classifiers are trained\n",
    "because of this. We use the predict() method to generate predictions on the\n",
    "testing data in order to evaluate the effectiveness of the hybrid model. We\n",
    "determine an accuracy score by contrasting the labels that are anticipated\n",
    "with the labels that appear."
   ],
   "id": "93e7a43bb79df98"
  },
  {
   "metadata": {
    "ExecuteTime": {
     "end_time": "2024-05-18T19:41:41.924513Z",
     "start_time": "2024-05-18T19:41:41.894145Z"
    }
   },
   "cell_type": "code",
   "source": [
    "scaler = StandardScaler()\n",
    "X_train = scaler.fit_transform(X_train)\n",
    "X_test = scaler.transform(X_test)\n",
    "y_train = y_train.to_numpy(dtype=\"int\")\n",
    "y_test = y_test.to_numpy(dtype=\"int\")\n",
    "# \n",
    "# X_train = imp.transform(X_train)"
   ],
   "id": "fe554813651bbb4f",
   "outputs": [
    {
     "ename": "ValueError",
     "evalue": "invalid literal for int() with base 10: 'B'",
     "output_type": "error",
     "traceback": [
      "\u001B[0;31m---------------------------------------------------------------------------\u001B[0m",
      "\u001B[0;31mValueError\u001B[0m                                Traceback (most recent call last)",
      "Cell \u001B[0;32mIn[108], line 4\u001B[0m\n\u001B[1;32m      2\u001B[0m X_train \u001B[38;5;241m=\u001B[39m scaler\u001B[38;5;241m.\u001B[39mfit_transform(X_train)\n\u001B[1;32m      3\u001B[0m X_test \u001B[38;5;241m=\u001B[39m scaler\u001B[38;5;241m.\u001B[39mtransform(X_test)\n\u001B[0;32m----> 4\u001B[0m y_train \u001B[38;5;241m=\u001B[39m \u001B[43my_train\u001B[49m\u001B[38;5;241;43m.\u001B[39;49m\u001B[43mto_numpy\u001B[49m\u001B[43m(\u001B[49m\u001B[43mdtype\u001B[49m\u001B[38;5;241;43m=\u001B[39;49m\u001B[38;5;124;43m\"\u001B[39;49m\u001B[38;5;124;43mint\u001B[39;49m\u001B[38;5;124;43m\"\u001B[39;49m\u001B[43m)\u001B[49m\n\u001B[1;32m      5\u001B[0m y_test \u001B[38;5;241m=\u001B[39m y_test\u001B[38;5;241m.\u001B[39mto_numpy(dtype\u001B[38;5;241m=\u001B[39m\u001B[38;5;124m\"\u001B[39m\u001B[38;5;124mint\u001B[39m\u001B[38;5;124m\"\u001B[39m)\n\u001B[1;32m      6\u001B[0m \u001B[38;5;66;03m# \u001B[39;00m\n\u001B[1;32m      7\u001B[0m \u001B[38;5;66;03m# X_train = imp.transform(X_train)\u001B[39;00m\n",
      "File \u001B[0;32m/usr/local/lib/python3.10/dist-packages/pandas/core/base.py:662\u001B[0m, in \u001B[0;36mIndexOpsMixin.to_numpy\u001B[0;34m(self, dtype, copy, na_value, **kwargs)\u001B[0m\n\u001B[1;32m    658\u001B[0m         values \u001B[38;5;241m=\u001B[39m values\u001B[38;5;241m.\u001B[39mcopy()\n\u001B[1;32m    660\u001B[0m     values[np\u001B[38;5;241m.\u001B[39masanyarray(isna(\u001B[38;5;28mself\u001B[39m))] \u001B[38;5;241m=\u001B[39m na_value\n\u001B[0;32m--> 662\u001B[0m result \u001B[38;5;241m=\u001B[39m \u001B[43mnp\u001B[49m\u001B[38;5;241;43m.\u001B[39;49m\u001B[43masarray\u001B[49m\u001B[43m(\u001B[49m\u001B[43mvalues\u001B[49m\u001B[43m,\u001B[49m\u001B[43m \u001B[49m\u001B[43mdtype\u001B[49m\u001B[38;5;241;43m=\u001B[39;49m\u001B[43mdtype\u001B[49m\u001B[43m)\u001B[49m\n\u001B[1;32m    664\u001B[0m \u001B[38;5;28;01mif\u001B[39;00m (copy \u001B[38;5;129;01mand\u001B[39;00m \u001B[38;5;129;01mnot\u001B[39;00m fillna) \u001B[38;5;129;01mor\u001B[39;00m (\u001B[38;5;129;01mnot\u001B[39;00m copy \u001B[38;5;129;01mand\u001B[39;00m using_copy_on_write()):\n\u001B[1;32m    665\u001B[0m     \u001B[38;5;28;01mif\u001B[39;00m np\u001B[38;5;241m.\u001B[39mshares_memory(\u001B[38;5;28mself\u001B[39m\u001B[38;5;241m.\u001B[39m_values[:\u001B[38;5;241m2\u001B[39m], result[:\u001B[38;5;241m2\u001B[39m]):\n\u001B[1;32m    666\u001B[0m         \u001B[38;5;66;03m# Take slices to improve performance of check\u001B[39;00m\n",
      "\u001B[0;31mValueError\u001B[0m: invalid literal for int() with base 10: 'B'"
     ]
    }
   ],
   "execution_count": 108
  },
  {
   "metadata": {
    "ExecuteTime": {
     "end_time": "2024-05-18T19:41:50.446971Z",
     "start_time": "2024-05-18T19:41:50.443477Z"
    }
   },
   "cell_type": "code",
   "source": [
    "\n",
    "rf = RandomForestClassifier(n_estimators=100, random_state=0)\n",
    "SVM = SVC(kernel='linear', random_state=0, C=1.0)"
   ],
   "id": "bff72429023ffd27",
   "outputs": [],
   "execution_count": 109
  },
  {
   "metadata": {
    "ExecuteTime": {
     "end_time": "2024-05-18T19:41:51.984388Z",
     "start_time": "2024-05-18T19:41:51.809905Z"
    }
   },
   "cell_type": "code",
   "source": [
    "rf_svm = VotingClassifier(estimators=[('rf', rf), ('svm', SVM)], voting='hard')\n",
    "rf_svm.fit(X_train, y_train)\n",
    "rf_svm_acc = rf_svm.score(X_test, y_test)\n",
    "rf_svm_acc"
   ],
   "id": "b5b7ddefdc8992a5",
   "outputs": [
    {
     "data": {
      "text/plain": [
       "0.9649122807017544"
      ]
     },
     "execution_count": 110,
     "metadata": {},
     "output_type": "execute_result"
    }
   ],
   "execution_count": 110
  },
  {
   "metadata": {},
   "cell_type": "markdown",
   "source": "Training Random forest + KNN",
   "id": "8e017181f611fb23"
  },
  {
   "metadata": {
    "ExecuteTime": {
     "end_time": "2024-05-18T19:44:14.526099Z",
     "start_time": "2024-05-18T19:44:14.474341Z"
    }
   },
   "cell_type": "code",
   "source": [
    "svm = SVC(kernel='linear', random_state=0, C=1.0)\n",
    "knn = KNeighborsClassifier(n_neighbors=1, metric='minkowski', p=2.0)\n",
    "svm_knn = VotingClassifier(estimators=[('svm', svm), ('knn', knn)], voting='hard')\n",
    "svm_knn.fit(X_train, y_train)\n",
    "svm_knn_acc = svm_knn.score(X_test, y_test)\n",
    "svm_knn_acc"
   ],
   "id": "a339f10a4eea5a3b",
   "outputs": [
    {
     "data": {
      "text/plain": [
       "0.9473684210526315"
      ]
     },
     "execution_count": 111,
     "metadata": {},
     "output_type": "execute_result"
    }
   ],
   "execution_count": 111
  }
 ],
 "metadata": {
  "kernelspec": {
   "display_name": "Python 3",
   "language": "python",
   "name": "python3"
  },
  "language_info": {
   "codemirror_mode": {
    "name": "ipython",
    "version": 2
   },
   "file_extension": ".py",
   "mimetype": "text/x-python",
   "name": "python",
   "nbconvert_exporter": "python",
   "pygments_lexer": "ipython2",
   "version": "2.7.6"
  }
 },
 "nbformat": 4,
 "nbformat_minor": 5
}
